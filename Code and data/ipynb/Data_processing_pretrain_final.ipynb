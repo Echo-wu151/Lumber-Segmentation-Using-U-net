{
 "cells": [
  {
   "cell_type": "code",
   "execution_count": 1,
   "metadata": {},
   "outputs": [
    {
     "name": "stdout",
     "output_type": "stream",
     "text": [
      "\n",
      "----------------------------------------------------------------------------------\n",
      "This file is Data_processing_pretrain_final.py\n",
      "\n",
      "Importing functions.......\n",
      "\n"
     ]
    }
   ],
   "source": [
    "print('''\n",
    "----------------------------------------------------------------------------------\n",
    "This file is Data_processing_pretrain_final.py\n",
    "\n",
    "Importing functions.......\n",
    "''')"
   ]
  },
  {
   "cell_type": "code",
   "execution_count": 2,
   "metadata": {},
   "outputs": [
    {
     "name": "stdout",
     "output_type": "stream",
     "text": [
      "\n",
      "----------------------------------------------------------------------------------\n",
      "This draw_label_final.py\n",
      "\n",
      "Importing functions.......\n",
      "\n",
      "\n",
      "Sucessfully import draw_label_final.py!\n",
      "-------------------------------------------------------------------------------\n",
      "\n"
     ]
    }
   ],
   "source": [
    "%matplotlib inline\n",
    "import numpy as np\n",
    "import tensorflow as tf\n",
    "import cv2\n",
    "import matplotlib.pyplot as plt\n",
    "import os\n",
    "import sys\n",
    "from draw_label_final import *"
   ]
  },
  {
   "cell_type": "code",
   "execution_count": 3,
   "metadata": {},
   "outputs": [],
   "source": [
    "# read the image with gray and store it into a dictionary \n",
    "# for image and original label dictionary, key = filename and value = data\n",
    "def read_image(file_path):\n",
    "    #get the path\n",
    "    path = file_path\n",
    "    first_folder_name = os.listdir(path)\n",
    "    first_folder_name.sort()\n",
    "    label = {}\n",
    "    image = {}\n",
    "    for second_folder in first_folder_name:\n",
    "        folder_path = path + '/' + second_folder\n",
    "        file_folder_list = os.listdir(folder_path)\n",
    "        file_folder_list.sort()\n",
    "        for file_name in file_folder_list:\n",
    "            file_path = folder_path + '/' + file_name\n",
    "            file_name_list = os.listdir(file_path)\n",
    "            file_name_list.sort()\n",
    "            for file in file_name_list:\n",
    "                image_path = file_path + '/' + file\n",
    "                if file_name == \"image\" :\n",
    "                    image[file] = cv2.imread(image_path, cv2.IMREAD_GRAYSCALE)     #read image\n",
    "                else :\n",
    "                    label[file] = cv2.imread(image_path, cv2.IMREAD_GRAYSCALE)     #read label\n",
    "    return image, label"
   ]
  },
  {
   "cell_type": "code",
   "execution_count": 4,
   "metadata": {},
   "outputs": [
    {
     "name": "stdout",
     "output_type": "stream",
     "text": [
      "\n",
      "# function read_image(file_path), which returns image and label in the dictionary datatype\n",
      " \n"
     ]
    }
   ],
   "source": [
    "print('''\n",
    "# function read_image(file_path), which returns image and label in the dictionary datatype\n",
    " ''')"
   ]
  },
  {
   "cell_type": "code",
   "execution_count": 5,
   "metadata": {},
   "outputs": [],
   "source": [
    "def label_to_class_label(label):\n",
    "    \n",
    "    label[label == 0] = 0              \n",
    "    label[label == 255] = 1\n",
    "        \n",
    "    return np.array(label)"
   ]
  },
  {
   "cell_type": "code",
   "execution_count": 6,
   "metadata": {},
   "outputs": [],
   "source": [
    "def label_to_1Hlabel(label):\n",
    "    \n",
    "    teye = np.eye(2,dtype=np.uint8)    #num_class = 2\n",
    "    label_seg = np.zeros([*label.shape[:],2],dtype=np.uint8)\n",
    "    label_seg [label == 0] = teye[0]\n",
    "    label_seg [label == 1] = teye[1]\n",
    "\n",
    "    return np.array(label_seg)"
   ]
  },
  {
   "cell_type": "code",
   "execution_count": 7,
   "metadata": {},
   "outputs": [],
   "source": [
    "#crop off 0~99 column and 401~last column\n",
    "def crop_image(image):    \n",
    "    crop_image = np.delete(np.delete(image,np.s_[451:],axis = 1), np.s_[:51], axis = 1)\n",
    "    \n",
    "    return crop_image"
   ]
  },
  {
   "cell_type": "code",
   "execution_count": 8,
   "metadata": {},
   "outputs": [],
   "source": [
    "#crop one image into four image(size = 300*300)\n",
    "def crop_to_four(image):\n",
    "    crop1_image = np.copy(image[:300])\n",
    "    crop2_image = np.copy(image[300:600])\n",
    "    crop3_image = np.copy(image[600:900])\n",
    "    crop4_image = np.copy(image[900:1200])\n",
    "    return crop1_image, crop2_image, crop3_image, crop4_image"
   ]
  },
  {
   "cell_type": "code",
   "execution_count": 9,
   "metadata": {},
   "outputs": [],
   "source": [
    "def merge(crop1, crop2, crop3, crop4):\n",
    "    \n",
    "    image = np.vstack([crop1, crop2, crop3, crop4])\n",
    "    \n",
    "    return image"
   ]
  },
  {
   "cell_type": "code",
   "execution_count": 10,
   "metadata": {},
   "outputs": [],
   "source": [
    "#normalize data by zero mean method\n",
    "def zero_mean(image):\n",
    "    image_mean = image.mean()\n",
    "    image_max = image.max()\n",
    "    image_min = image.min()\n",
    "    image_norm = (image - image_mean) / (image_max - image_min)\n",
    "    return image_norm"
   ]
  },
  {
   "cell_type": "code",
   "execution_count": 11,
   "metadata": {},
   "outputs": [],
   "source": [
    "#show one image and label\n",
    "def imshow(image, label):\n",
    "    plt.figure(figsize = (15,15))\n",
    "    plt.subplot(221)\n",
    "    plt.imshow(image, cmap = 'gray')\n",
    "    plt.subplot(222)\n",
    "    plt.imshow(label, cmap = 'gray')\n",
    "    plt.show()\n",
    "    return 0"
   ]
  },
  {
   "cell_type": "code",
   "execution_count": 12,
   "metadata": {},
   "outputs": [
    {
     "name": "stdout",
     "output_type": "stream",
     "text": [
      "\n",
      "# function imshow(image, label), which shows two images in grayscale\n",
      "\n"
     ]
    }
   ],
   "source": [
    "print('''\n",
    "# function imshow(image, label), which shows two images in grayscale\n",
    "''')"
   ]
  },
  {
   "cell_type": "code",
   "execution_count": 13,
   "metadata": {},
   "outputs": [],
   "source": [
    "#resize = True, then return image of size (320,320)\n",
    "#to display, image[crop_displacement, slice_NO,: ,:]\n",
    "def datapreprocessing(image, label, resize):\n",
    "    new_image = []    \n",
    "    new_label = []\n",
    "        \n",
    "    print(\"preprocessing....\\n\")\n",
    "    print(\"dealing with image....\\n\")\n",
    "    \n",
    "    for x in image:\n",
    "        \n",
    "        crop_x = crop_image(x)\n",
    "        crop1_x, crop2_x, crop3_x, crop4_x = crop_to_four(crop_x)\n",
    "                \n",
    "        temp_1 = cv2.equalizeHist(crop1_x)\n",
    "        crop1_x = cv2.addWeighted(crop1_x ,0.5, temp_1, 0.5,0,-1)\n",
    "        \n",
    "        temp_2 = cv2.equalizeHist(crop2_x)\n",
    "        crop2_x = cv2.addWeighted(crop2_x ,0.5, temp_2, 0.5,0,-1)\n",
    "        \n",
    "        temp_3 = cv2.equalizeHist(crop3_x)\n",
    "        crop3_x = cv2.addWeighted(crop3_x ,0.5, temp_3, 0.5,0,-1)\n",
    "        \n",
    "        temp_4 = cv2.equalizeHist(crop4_x)\n",
    "        crop4_x = cv2.addWeighted(crop4_x ,0.5, temp_4, 0.5,0,-1)\n",
    "                       \n",
    "        crop1_x = np.float32(crop1_x)\n",
    "        \n",
    "        crop2_x = np.float32(crop2_x)\n",
    "        \n",
    "        crop3_x = np.float32(crop3_x)\n",
    "        \n",
    "        crop4_x = np.float32(crop4_x)\n",
    "        \n",
    "        \n",
    "        crop1_x = zero_mean(crop1_x)        \n",
    "        crop2_x = zero_mean(crop2_x)\n",
    "        crop3_x = zero_mean(crop3_x)\n",
    "        crop4_x = zero_mean(crop4_x)\n",
    "        \n",
    "        x = merge(crop1_x, crop2_x, crop3_x, crop4_x)\n",
    "        if (resize) :\n",
    "            \n",
    "            x = cv2.resize(x, (224,672))\n",
    "        new_image.append(x)\n",
    "        \n",
    "    print(\"preprocessing for image finish!\\n\")\n",
    "    print(\"dealing with label....\\n\")\n",
    "  \n",
    "    label = label_to_class_label(label)\n",
    "    \n",
    "    print(\"label_to_class_label finish!\\n\")\n",
    "    \n",
    "    label = label_to_1Hlabel(label)\n",
    "    \n",
    "    print(\"Function label_to_1Hlabel finish!\\n\")\n",
    "    \n",
    "    \n",
    "    for y in label:\n",
    "        \n",
    "        y = np.float32(y)    \n",
    "        \n",
    "        if (resize) :\n",
    "            y = cv2.resize(y, (224,672))\n",
    "            \n",
    "        new_label.append(y)\n",
    "    print(\"preprocessing for label finish!\\n\")\n",
    "    return np.array(new_image), np.array(new_label)"
   ]
  },
  {
   "cell_type": "code",
   "execution_count": 14,
   "metadata": {},
   "outputs": [
    {
     "name": "stdout",
     "output_type": "stream",
     "text": [
      "\n",
      "# function datapreprocessing(image, label, resize), which finishs the preprocessing.\n",
      "  Note that resize is True or False\n",
      "\n"
     ]
    }
   ],
   "source": [
    "print('''\n",
    "# function datapreprocessing(image, label, resize), which finishs the preprocessing.\n",
    "  Note that resize is True or False\n",
    "''')"
   ]
  },
  {
   "cell_type": "code",
   "execution_count": 15,
   "metadata": {},
   "outputs": [],
   "source": [
    "def transfer_to_train_data(image, input_shape):   #input_shape is the dimension of data\n",
    "    \n",
    "    x = np.reshape(image,input_shape)         \n",
    "    x = np.array(x)\n",
    "    print(\"Function transfer_to_train_data finish!\\n\")\n",
    "    return x"
   ]
  },
  {
   "cell_type": "code",
   "execution_count": 16,
   "metadata": {},
   "outputs": [
    {
     "name": "stdout",
     "output_type": "stream",
     "text": [
      "\n",
      "# function transfer_to_train_data(image, input_shape), which prepares the train_x data for model  \n",
      "\n"
     ]
    }
   ],
   "source": [
    "print('''\n",
    "# function transfer_to_train_data(image, input_shape), which prepares the train_x data for model  \n",
    "''')"
   ]
  },
  {
   "cell_type": "code",
   "execution_count": 17,
   "metadata": {},
   "outputs": [],
   "source": [
    "#get_floder(image in dict, label in dict, image_name list, label_name list, training data size)\n",
    "#return four array (train_image, train_label, test_image, test_label)\n",
    "\n",
    "def get_floder(image, label, image_name, label_name, train_floder_size):\n",
    "    \n",
    "    floder_train_image = []\n",
    "    floder_train_label = []\n",
    "    floder_test_image = []\n",
    "    floder_test_label = []\n",
    "\n",
    "    #for image\n",
    "    count1 = 0  \n",
    "    for img in image_name:\n",
    "        \n",
    "        if count1 < train_floder_size:\n",
    "            floder_train_image.append(image[img])\n",
    "            count1 = count1 + 1\n",
    "            \n",
    "        else :\n",
    "            floder_test_image.append(image[img])\n",
    "            count1 = count1 + 1\n",
    "    # for label\n",
    "\n",
    "    count = 0 \n",
    "    for labels in label_name:\n",
    "        if count < train_floder_size:\n",
    "            floder_train_label.append(label[labels])\n",
    "            count = count + 1\n",
    "            \n",
    "        else :\n",
    "            floder_test_label.append(label[labels])\n",
    "            count = count + 1\n",
    "            \n",
    "    return np.array(floder_train_image), np.array(floder_train_label), np.array(floder_test_image) ,np.array(floder_test_label)"
   ]
  },
  {
   "cell_type": "code",
   "execution_count": 18,
   "metadata": {},
   "outputs": [],
   "source": [
    "#return three floders\n",
    "def three_floder_validation(image, label):\n",
    "    size = 40\n",
    "    image_name = list(image.keys())\n",
    "    label_name = list(label.keys())\n",
    "    name_image = []\n",
    "    name_label = []\n",
    "    floder = [[],[],[]]\n",
    "    \n",
    "    floder2_image_name = image_name[:20] + image_name[40:60] + image_name[20:40]\n",
    "    \n",
    "    floder2_label_name = label_name[:20] + label_name[40:60] + label_name[20:40]\n",
    "    \n",
    "    floder3_image_name = image_name[40:60] + image_name[20:40] + image_name[:20]\n",
    "    \n",
    "    floder3_label_name = label_name[40:60] + label_name[20:40] + label_name[:20]\n",
    "    name_image.append(image_name)\n",
    "    name_image.append(floder2_image_name)\n",
    "    name_image.append(floder3_image_name)\n",
    "    name_label.append(label_name)\n",
    "    name_label.append(floder2_label_name)\n",
    "    name_label.append(floder3_label_name)\n",
    "    \n",
    "    \n",
    "    for i in range(3):\n",
    "        train_x, train_y, test_x, test_y = get_floder(image, label, name_image[i], name_label[i], 40)\n",
    "        floder[i].append(train_x)\n",
    "        floder[i].append(train_y)\n",
    "        floder[i].append(test_x)\n",
    "        floder[i].append(test_y)\n",
    "        \n",
    "    floder1 = floder[0]\n",
    "    floder2 = floder[1]\n",
    "    floder3 = floder[2]\n",
    "    \n",
    "    print(\"Function three_floder_validation finish!\\n\")\n",
    "    return floder1, floder2, floder3"
   ]
  },
  {
   "cell_type": "code",
   "execution_count": 19,
   "metadata": {},
   "outputs": [
    {
     "name": "stdout",
     "output_type": "stream",
     "text": [
      "\n",
      "# three_floder_validation(image, label), which classifies the data to three floder.\n",
      "  It returns floder1, floder2, floder3\n",
      "\n"
     ]
    }
   ],
   "source": [
    "print('''\n",
    "# three_floder_validation(image, label), which classifies the data to three floder.\n",
    "  It returns floder1, floder2, floder3\n",
    "''')"
   ]
  },
  {
   "cell_type": "code",
   "execution_count": 20,
   "metadata": {},
   "outputs": [
    {
     "name": "stdout",
     "output_type": "stream",
     "text": [
      "\n",
      "Sucessfully import Data_processing_for_multi_class_final.py!\n",
      "-------------------------------------------------------------------------------\n",
      "\n"
     ]
    }
   ],
   "source": [
    "print('''\n",
    "Sucessfully import Data_processing_pretrain_final.py!\n",
    "-------------------------------------------------------------------------------\n",
    "''')"
   ]
  },
  {
   "cell_type": "code",
   "execution_count": 29,
   "metadata": {},
   "outputs": [],
   "source": [
    "# read data\n",
    "#image, label = read_image(\"data\")"
   ]
  },
  {
   "cell_type": "code",
   "execution_count": 30,
   "metadata": {},
   "outputs": [],
   "source": [
    "#floder1, floder2, floder3 = three_floder_validation(image,label)"
   ]
  },
  {
   "cell_type": "code",
   "execution_count": 31,
   "metadata": {},
   "outputs": [],
   "source": [
    "#train_x, train_y, test_x, test_y = floder1[0], floder1[1], floder1[2], floder1[3]"
   ]
  },
  {
   "cell_type": "code",
   "execution_count": 32,
   "metadata": {},
   "outputs": [],
   "source": [
    "#train_x, train_y = datapreprocessing(train_x, train_y, resize = True)\n",
    "#test_x, test_y = datapreprocessing(test_x, test_y, resize = True)"
   ]
  },
  {
   "cell_type": "code",
   "execution_count": 33,
   "metadata": {},
   "outputs": [],
   "source": [
    "#train_x = transfer_to_train_data(train_x, (train_x.shape[0], train_x.shape[1],train_x.shape[2],1))\n",
    "#test_x = transfer_to_train_data(test_x, (test_x.shape[0], test_x.shape[1],test_x.shape[2],1))"
   ]
  },
  {
   "cell_type": "code",
   "execution_count": 34,
   "metadata": {},
   "outputs": [],
   "source": [
    "#train_y.shape"
   ]
  },
  {
   "cell_type": "code",
   "execution_count": 35,
   "metadata": {},
   "outputs": [],
   "source": [
    "#imshow(train_y[1,:,:,1],train_y[10,:,:,0])"
   ]
  },
  {
   "cell_type": "code",
   "execution_count": null,
   "metadata": {},
   "outputs": [],
   "source": []
  },
  {
   "cell_type": "code",
   "execution_count": null,
   "metadata": {},
   "outputs": [],
   "source": []
  }
 ],
 "metadata": {
  "kernelspec": {
   "display_name": "tensorflow",
   "language": "python",
   "name": "tensorflow"
  },
  "language_info": {
   "codemirror_mode": {
    "name": "ipython",
    "version": 3
   },
   "file_extension": ".py",
   "mimetype": "text/x-python",
   "name": "python",
   "nbconvert_exporter": "python",
   "pygments_lexer": "ipython3",
   "version": "3.6.9"
  }
 },
 "nbformat": 4,
 "nbformat_minor": 2
}
